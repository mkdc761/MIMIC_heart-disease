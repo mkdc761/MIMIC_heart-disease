{
 "cells": [
  {
   "cell_type": "code",
   "execution_count": null,
   "metadata": {},
   "outputs": [],
   "source": [
    "\n",
    "#create df from Admissions\n",
    "import pandas as pd\n",
    "#display many rows\n",
    "pd.options.display.max_rows = 200 \n",
    "\n",
    "import numpy as np\n",
    "\n",
    "df = pd.read_csv(\"ADMISSIONS.csv.gz\")\n",
    "df.head()"
   ]
  },
  {
   "cell_type": "markdown",
   "metadata": {},
   "source": [
    "# Explore/Summary"
   ]
  },
  {
   "cell_type": "code",
   "execution_count": null,
   "metadata": {},
   "outputs": [],
   "source": [
    "df.describe()"
   ]
  },
  {
   "cell_type": "code",
   "execution_count": null,
   "metadata": {},
   "outputs": [],
   "source": [
    "df.describe(include=[\"object\"])"
   ]
  },
  {
   "cell_type": "code",
   "execution_count": null,
   "metadata": {},
   "outputs": [],
   "source": [
    "df[\"HOSPITAL_EXPIRE_FLAG\"].value_counts()"
   ]
  },
  {
   "cell_type": "code",
   "execution_count": null,
   "metadata": {},
   "outputs": [],
   "source": [
    "df[\"DIAGNOSIS\"].value_counts().head(40)"
   ]
  },
  {
   "cell_type": "code",
   "execution_count": null,
   "metadata": {},
   "outputs": [],
   "source": [
    "df[\"DIAGNOSIS\"].count()"
   ]
  },
  {
   "cell_type": "code",
   "execution_count": null,
   "metadata": {},
   "outputs": [],
   "source": [
    "df[\"DIAGNOSIS\"].nunique()"
   ]
  },
  {
   "cell_type": "code",
   "execution_count": null,
   "metadata": {},
   "outputs": [],
   "source": [
    "df[\"DIAGNOSIS\"].size"
   ]
  },
  {
   "cell_type": "code",
   "execution_count": null,
   "metadata": {},
   "outputs": [],
   "source": [
    "df[\"HADM_ID\"].nunique()"
   ]
  },
  {
   "cell_type": "markdown",
   "metadata": {},
   "source": [
    "# Begin Visualization"
   ]
  },
  {
   "cell_type": "code",
   "execution_count": null,
   "metadata": {},
   "outputs": [],
   "source": [
    "#Histogram\n",
    "import matplotlib.pyplot as plt\n",
    "import seaborn as sns\n",
    "\n",
    "fig, ax = plt.subplots()\n",
    "ax.hist(df['ETHNICITY'],  color='red', alpha=.3, edgecolor='black', bins=10)\n",
    "ax.set(xlabel=\"Age\")\n",
    "\n",
    "plt.show()"
   ]
  },
  {
   "cell_type": "code",
   "execution_count": null,
   "metadata": {},
   "outputs": [],
   "source": [
    "\n",
    "df[\"ETHNICITY\"].value_counts().head(50)"
   ]
  },
  {
   "cell_type": "code",
   "execution_count": null,
   "metadata": {},
   "outputs": [],
   "source": [
    "#Histogram\n",
    "import matplotlib.pyplot as plt\n",
    "import seaborn as sns\n",
    "\n",
    "fig, ax = plt.subplots()\n",
    "ax.hist(df['INSURANCE'],  color='red', alpha=.3, edgecolor='black', bins=10)\n",
    "ax.set(xlabel=\"Ins Type\")\n",
    "\n",
    "plt.show()"
   ]
  },
  {
   "cell_type": "code",
   "execution_count": null,
   "metadata": {},
   "outputs": [],
   "source": [
    "fig, ax = plt.subplots(figsize=(12,5))\n",
    "df_lived = df.loc[(df[\"HOSPITAL_EXPIRE_FLAG\"] == 0)]\n",
    "df_died = df.loc[(df[\"HOSPITAL_EXPIRE_FLAG\"] == 1)]\n",
    "ax.hist(df_died[\"INSURANCE\"],  color='red', alpha=.3, edgecolor='black')\n",
    "ax.set(xlabel=\"Ins_type\", title=\"Not Survived\")\n",
    "\n",
    "plt.show()"
   ]
  },
  {
   "cell_type": "code",
   "execution_count": null,
   "metadata": {},
   "outputs": [],
   "source": [
    "fig, ax = plt.subplots(figsize=(12,5))\n",
    "df_lived = df.loc[(df[\"HOSPITAL_EXPIRE_FLAG\"] == 0)]\n",
    "df_died = df.loc[(df[\"HOSPITAL_EXPIRE_FLAG\"] == 1)]\n",
    "\n",
    "ax.hist(df_lived[\"INSURANCE\"],  color='red', alpha=.3, edgecolor='black')\n",
    "ax.set(xlabel=\"Ins_type\", title=\"Survived\")\n",
    "plt.show()"
   ]
  },
  {
   "cell_type": "code",
   "execution_count": null,
   "metadata": {},
   "outputs": [],
   "source": [
    "\n",
    "#Not helpful but good code for the future\n",
    "import warnings\n",
    "warnings.filterwarnings('ignore')\n",
    "\n",
    "g = sns.catplot(\"HOSPITAL_EXPIRE_FLAG\", col=\"INSURANCE\", col_wrap=4,\n",
    "                data=df,\n",
    "                kind=\"count\", height=2.5, aspect=.8)"
   ]
  },
  {
   "cell_type": "markdown",
   "metadata": {},
   "source": [
    "# Group Ethnicities"
   ]
  },
  {
   "cell_type": "code",
   "execution_count": null,
   "metadata": {},
   "outputs": [],
   "source": [
    "#Group Ethnicitie\n",
    "df[\"ETHNICITY\"] = df['ETHNICITY'].replace(['PORTUGESE', 'WHITE - OTHER EUROPEAN','WHITE', 'WHITE - EASTERN EUROPEAN', 'WHITE - RUSSIAN', 'WHITE - BRAZILIAN'],\"White\")\n",
    "df[\"ETHNICITY\"] = df['ETHNICITY'].replace(['BLACK/AFRICAN AMERICAN', 'BLACK/CAPE VERDEAN', 'BLACK/HAITIAN', 'CARIBBEAN ISLAND', 'BLACK/AFRICAN'],\"Black\")\n",
    "df[\"ETHNICITY\"] = df['ETHNICITY'].replace(['HISPANIC/LATINO - HONDURAN', 'HISPANIC/LATINO - MEXICAN', 'HISPANIC/LATINO - COLOMBIAN', 'HISPANIC/LATINO - SALVADORAN', 'HISPANIC/LATINO - CENTRAL AMERICAN (OTHER)','SOUTH AMERICAN','HISPANIC/LATINO - GUATEMALAN', 'HISPANIC/LATINO - PUERTO RICAN', 'HISPANIC OR LATINO', 'HISPANIC/LATINO - CUBAN','HISPANIC/LATINO - DOMINICAN'],\"Latino\")\n",
    "df[\"ETHNICITY\"] = df['ETHNICITY'].replace([\"OTHER\", 'UNKNOWN/NOT SPECIFIED', 'PATIENT DECLINED TO ANSWER', 'MULTI RACE ETHNICITY', 'UNABLE TO OBTAIN'],\"Other\")\n",
    "df[\"ETHNICITY\"] = df['ETHNICITY'].replace(['AMERICAN INDIAN/ALASKA NATIVE FEDERALLY RECOGNIZED TRIBE', 'NATIVE HAWAIIAN OR OTHER PACIFIC ISLANDER',  'AMERICAN INDIAN/ALASKA NATIVE' ], \"Indigenous\")\n",
    "df[\"ETHNICITY\"] = df['ETHNICITY'].replace(['ASIAN - JAPANESE', 'ASIAN - THAI', 'ASIAN - VIETNAMESE','ASIAN - ASIAN INDIAN','ASIAN - CAMBODIAN','ASIAN - KOREAN', \"ASIAN\", 'ASIAN - CHINESE', 'ASIAN - OTHER', 'ASIAN - FILIPINO'],\"Asian\")\n",
    "df[\"ETHNICITY\"] = df['ETHNICITY'].replace('MIDDLE EASTERN',\"Mid-East\")"
   ]
  },
  {
   "cell_type": "code",
   "execution_count": null,
   "metadata": {},
   "outputs": [],
   "source": [
    "\n",
    "df[\"ETHNICITY\"].value_counts()"
   ]
  },
  {
   "cell_type": "code",
   "execution_count": null,
   "metadata": {},
   "outputs": [],
   "source": [
    "df[\"ETHNICITY\"] = df['ETHNICITY'].replace(['PORTUGUESE'],\"White\")\n",
    "df[\"ETHNICITY\"].value_counts()"
   ]
  },
  {
   "cell_type": "code",
   "execution_count": null,
   "metadata": {},
   "outputs": [],
   "source": [
    "df.columns"
   ]
  },
  {
   "cell_type": "markdown",
   "metadata": {},
   "source": [
    "# Limit df to heart disease"
   ]
  },
  {
   "cell_type": "code",
   "execution_count": null,
   "metadata": {},
   "outputs": [],
   "source": [
    "#(df[\"DIAGNOSIS\"]=='DYSPNEA')|\n",
    "#(df[\"DIAGNOSIS\"]=='SHORTNESS OF BREATH')|\n",
    "#(df[\"DIAGNOSIS\"]=='CHEST PAIN')|\n",
    "\n",
    "\n",
    "df_hrt_dz = df.loc[(df[\"DIAGNOSIS\"]=='CONGESTIVE HEART FAILURE')|(df[\"DIAGNOSIS\"]=='CORONARY ARTERY DISEASE')| \n",
    "                   (df[\"DIAGNOSIS\"]=='CORONARY ARTERY DISEASE\\CORONARY ARTERY BYPASS GRAFT /SDA')|\n",
    "                   (df[\"DIAGNOSIS\"]=='CORONARY ARTERY DISEASE\\CATH')|(df[\"DIAGNOSIS\"]=='ACUTE CORONARY SYNDROME')|\n",
    "                   (df[\"DIAGNOSIS\"]=='MYOCARDIAL INFARCTION'),\n",
    "                   ['SUBJECT_ID', 'HADM_ID', 'MARITAL_STATUS', 'ETHNICITY', 'DIAGNOSIS',  'HOSPITAL_EXPIRE_FLAG', 'ADMISSION_TYPE', 'ADMITTIME', 'ADMISSION_LOCATION']]\n",
    "df_hrt_dz[\"HOSPITAL_EXPIRE_FLAG\"].value_counts()"
   ]
  },
  {
   "cell_type": "markdown",
   "metadata": {},
   "source": [
    "# Explore new df"
   ]
  },
  {
   "cell_type": "code",
   "execution_count": null,
   "metadata": {},
   "outputs": [],
   "source": [
    "fig, ax = plt.subplots()\n",
    "ax.hist(df_hrt_dz['DIAGNOSIS'],  color='red', alpha=.3, edgecolor='black', bins=10)\n",
    "ax.set(xlabel=\"Dz/Symptom\")\n",
    "\n",
    "plt.show()"
   ]
  },
  {
   "cell_type": "code",
   "execution_count": null,
   "metadata": {},
   "outputs": [],
   "source": [
    "df_hrt_dz[['DIAGNOSIS', 'HOSPITAL_EXPIRE_FLAG']].groupby(['DIAGNOSIS']).mean().sort_values(by='DIAGNOSIS', ascending=False)"
   ]
  },
  {
   "cell_type": "markdown",
   "metadata": {},
   "source": [
    "# Combine Admission w/ pt table to get age, gender"
   ]
  },
  {
   "cell_type": "code",
   "execution_count": null,
   "metadata": {},
   "outputs": [],
   "source": [
    "df_pt = pd.read_csv(\"PATIENTS.csv.gz\")\n",
    "df_hrt_dz = df_hrt_dz.merge(df_pt, on='SUBJECT_ID', how='left')\n",
    "df_hrt_dz.head()"
   ]
  },
  {
   "cell_type": "code",
   "execution_count": null,
   "metadata": {},
   "outputs": [],
   "source": [
    "type(df_hrt_dz['DOB'])"
   ]
  },
  {
   "cell_type": "code",
   "execution_count": null,
   "metadata": {},
   "outputs": [],
   "source": [
    "df_hrt_dz[\"ADMITTIME\"] = pd.to_datetime(df_hrt_dz[\"ADMITTIME\"]).dt.date\n",
    "df_hrt_dz[\"DOB\"] = pd.to_datetime(df_hrt_dz[\"DOB\"]).dt.date\n",
    "\n",
    "df_hrt_dz['Age'] = df_hrt_dz.apply(lambda e: (e['ADMITTIME'] - e['DOB']).days/365, axis=1)\n",
    "\n",
    "#df_hrt_dz['Age'] = ((df_hrt_dz[\"ADMITTIME\"]- df_hrt_dz['DOB']).dt.days) //365\n",
    "\n",
    "df_hrt_dz['Age'].head()"
   ]
  },
  {
   "cell_type": "code",
   "execution_count": null,
   "metadata": {},
   "outputs": [],
   "source": [
    "df_hrt_dz = df_hrt_dz[df_hrt_dz['Age'] < 90]\n",
    "df_hrt_dz['Age'].head()"
   ]
  },
  {
   "cell_type": "code",
   "execution_count": null,
   "metadata": {},
   "outputs": [],
   "source": [
    "df_hrt_dz.loc[(df_hrt_dz[\"HOSPITAL_EXPIRE_FLAG\"] == 0)].mean()"
   ]
  },
  {
   "cell_type": "code",
   "execution_count": null,
   "metadata": {},
   "outputs": [],
   "source": [
    "df_hrt_dz.loc[(df_hrt_dz[\"HOSPITAL_EXPIRE_FLAG\"] == 1, \"Age\")].mean()"
   ]
  },
  {
   "cell_type": "code",
   "execution_count": null,
   "metadata": {},
   "outputs": [],
   "source": [
    "df_hrt_dz.head()"
   ]
  },
  {
   "cell_type": "code",
   "execution_count": null,
   "metadata": {},
   "outputs": [],
   "source": [
    "fig, ax = plt.subplots(figsize=(12,5))\n",
    "df_hrt_lived = df_hrt_dz.loc[(df_hrt_dz[\"HOSPITAL_EXPIRE_FLAG\"] == 0)]\n",
    "df_hrt_died = df_hrt_dz.loc[(df_hrt_dz[\"HOSPITAL_EXPIRE_FLAG\"] == 1)]\n",
    "ax.hist(df_hrt_lived[\"ADMISSION_TYPE\"],  color='red', alpha=.3, edgecolor='black')\n",
    "ax.set(xlabel=\"admin_type\", title=\"Survived\")\n",
    "\n",
    "plt.show()"
   ]
  },
  {
   "cell_type": "code",
   "execution_count": null,
   "metadata": {},
   "outputs": [],
   "source": [
    "fig, ax = plt.subplots(figsize=(12,5))\n",
    "df_hrt_lived = df_hrt_dz.loc[(df_hrt_dz[\"HOSPITAL_EXPIRE_FLAG\"] == 0)]\n",
    "df_hrt_died = df_hrt_dz.loc[(df_hrt_dz[\"HOSPITAL_EXPIRE_FLAG\"] == 1)]\n",
    "ax.hist(df_hrt_died[\"ADMISSION_TYPE\"],  color='red', alpha=.3, edgecolor='black')\n",
    "ax.set(xlabel=\"admin_type\", title=\"Not Survived\")\n",
    "\n",
    "plt.show()"
   ]
  },
  {
   "cell_type": "code",
   "execution_count": null,
   "metadata": {},
   "outputs": [],
   "source": [
    "fig, ax = plt.subplots(figsize=(12,5))\n",
    "df_hrt_lived = df_hrt_dz.loc[(df_hrt_dz[\"HOSPITAL_EXPIRE_FLAG\"] == 0)]\n",
    "df_hrt_died = df_hrt_dz.loc[(df_hrt_dz[\"HOSPITAL_EXPIRE_FLAG\"] == 1)]\n",
    "ax.hist(df_hrt_lived[\"ADMISSION_LOCATION\"],  color='red', alpha=.3, edgecolor='black')\n",
    "ax.set(xlabel=\"admin_loc\", title=\"Survived\")\n",
    "\n",
    "plt.show()"
   ]
  },
  {
   "cell_type": "code",
   "execution_count": null,
   "metadata": {},
   "outputs": [],
   "source": [
    "fig, ax = plt.subplots(figsize=(12,5))\n",
    "df_hrt_lived = df_hrt_dz.loc[(df_hrt_dz[\"HOSPITAL_EXPIRE_FLAG\"] == 0)]\n",
    "df_hrt_died = df_hrt_dz.loc[(df_hrt_dz[\"HOSPITAL_EXPIRE_FLAG\"] == 1)]\n",
    "ax.hist(df_hrt_died[\"ADMISSION_LOCATION\"],  color='red', alpha=.3, edgecolor='black')\n",
    "ax.set(xlabel=\"admin_loc\", title=\"Not Survived\")\n",
    "\n",
    "plt.show()"
   ]
  },
  {
   "cell_type": "markdown",
   "metadata": {},
   "source": [
    "# Drop some columns"
   ]
  },
  {
   "cell_type": "code",
   "execution_count": null,
   "metadata": {},
   "outputs": [],
   "source": [
    "df_hrt_dz.drop([\"DOD\", 'DOD_HOSP', 'DOD_SSN', 'EXPIRE_FLAG', \"ADMISSION_LOCATION\"], axis=1, inplace=True)\n",
    "df_hrt_dz.head()"
   ]
  },
  {
   "cell_type": "code",
   "execution_count": null,
   "metadata": {},
   "outputs": [],
   "source": [
    "df_hrt_dz[\"GENDER\"].unique()"
   ]
  },
  {
   "cell_type": "markdown",
   "metadata": {},
   "source": [
    "# Binary Encode Gender"
   ]
  },
  {
   "cell_type": "code",
   "execution_count": null,
   "metadata": {},
   "outputs": [],
   "source": [
    "df_hrt_dz[\"GENDER\"] = df_hrt_dz[\"GENDER\"].map({'M':1, 'F':0})\n",
    "df_hrt_dz.head()"
   ]
  },
  {
   "cell_type": "markdown",
   "metadata": {},
   "source": [
    "# One hot Coding"
   ]
  },
  {
   "cell_type": "code",
   "execution_count": null,
   "metadata": {},
   "outputs": [],
   "source": [
    "df_hrt_dz = pd.get_dummies(df_hrt_dz, columns=[\"ADMISSION_TYPE\", \"ETHNICITY\", \"MARITAL_STATUS\"])\n",
    "df_hrt_dz.columns"
   ]
  },
  {
   "cell_type": "code",
   "execution_count": null,
   "metadata": {},
   "outputs": [],
   "source": [
    "df_hrt_dz.shape"
   ]
  },
  {
   "cell_type": "code",
   "execution_count": null,
   "metadata": {},
   "outputs": [],
   "source": [
    "df_hrt_dz.describe()"
   ]
  },
  {
   "cell_type": "code",
   "execution_count": null,
   "metadata": {},
   "outputs": [],
   "source": [
    "\n",
    "df_hrt_dz[\"HADM_ID\"].nunique()"
   ]
  }
 ],
 "metadata": {
  "kernelspec": {
   "display_name": "Python 3 (ipykernel)",
   "language": "python",
   "name": "python3"
  },
  "language_info": {
   "codemirror_mode": {
    "name": "ipython",
    "version": 3
   },
   "file_extension": ".py",
   "mimetype": "text/x-python",
   "name": "python",
   "nbconvert_exporter": "python",
   "pygments_lexer": "ipython3",
   "version": "3.11.5"
  }
 },
 "nbformat": 4,
 "nbformat_minor": 4
}
